{
  "cells": [
    {
      "cell_type": "markdown",
      "metadata": {
        "id": "view-in-github",
        "colab_type": "text"
      },
      "source": [
        "<a href=\"https://colab.research.google.com/github/a-singh03/BDDA/blob/main/BDDA_Project2_Group1.ipynb\" target=\"_parent\"><img src=\"https://colab.research.google.com/assets/colab-badge.svg\" alt=\"Open In Colab\"/></a>"
      ]
    },
    {
      "cell_type": "markdown",
      "id": "9539a5f9",
      "metadata": {
        "id": "9539a5f9"
      },
      "source": [
        "**BDDA PROJECT 2**\n",
        "\n",
        "Submitted By:\n",
        "\n",
        "Ankita Singh - 035011\n",
        "\n",
        "Anmol Bhardwaj - 035012\n",
        "\n",
        "Shruti Tiwari - 035052"
      ]
    },
    {
      "cell_type": "markdown",
      "id": "d9b8e81f",
      "metadata": {
        "id": "d9b8e81f"
      },
      "source": [
        "**Objective: To perform data pre-processing and Pipelining with PCA and xgboost.**"
      ]
    },
    {
      "cell_type": "markdown",
      "id": "6e93cb96",
      "metadata": {
        "id": "6e93cb96"
      },
      "source": [
        "**Kaggle:** https://www.kaggle.com/code/ksavleen/xgboost-gpu-passenger-satisfaction-level"
      ]
    },
    {
      "cell_type": "markdown",
      "id": "3e48a0bc",
      "metadata": {
        "id": "3e48a0bc"
      },
      "source": [
        "**Importing Libraries**"
      ]
    },
    {
      "cell_type": "code",
      "execution_count": null,
      "id": "dcbafbcf",
      "metadata": {
        "id": "dcbafbcf",
        "outputId": "96f6f47b-0c5a-41bf-ec21-15c3ba9ada34"
      },
      "outputs": [
        {
          "name": "stdout",
          "output_type": "stream",
          "text": [
            "Collecting scikit-optimize\n",
            "  Downloading scikit_optimize-0.9.0-py2.py3-none-any.whl (100 kB)\n",
            "\u001b[2K     \u001b[90m━━━━━━━━━━━━━━━━━━━━━━━━━━━━━━━━━━━━━━━\u001b[0m \u001b[32m100.3/100.3 kB\u001b[0m \u001b[31m7.1 MB/s\u001b[0m eta \u001b[36m0:00:00\u001b[0m\n",
            "\u001b[?25hRequirement already satisfied: scipy>=0.19.1 in ./anaconda3/lib/python3.10/site-packages (from scikit-optimize) (1.10.0)\n",
            "Requirement already satisfied: numpy>=1.13.3 in ./anaconda3/lib/python3.10/site-packages (from scikit-optimize) (1.23.5)\n",
            "Requirement already satisfied: scikit-learn>=0.20.0 in ./anaconda3/lib/python3.10/site-packages (from scikit-optimize) (1.2.1)\n",
            "Collecting pyaml>=16.9\n",
            "  Downloading pyaml-23.7.0-py3-none-any.whl (17 kB)\n",
            "Requirement already satisfied: joblib>=0.11 in ./anaconda3/lib/python3.10/site-packages (from scikit-optimize) (1.1.1)\n",
            "Requirement already satisfied: PyYAML in ./anaconda3/lib/python3.10/site-packages (from pyaml>=16.9->scikit-optimize) (6.0)\n",
            "Requirement already satisfied: threadpoolctl>=2.0.0 in ./anaconda3/lib/python3.10/site-packages (from scikit-learn>=0.20.0->scikit-optimize) (2.2.0)\n",
            "Installing collected packages: pyaml, scikit-optimize\n",
            "Successfully installed pyaml-23.7.0 scikit-optimize-0.9.0\n",
            "Requirement already satisfied: scikit-optimize[plots] in ./anaconda3/lib/python3.10/site-packages (0.9.0)\n",
            "Requirement already satisfied: numpy>=1.13.3 in ./anaconda3/lib/python3.10/site-packages (from scikit-optimize[plots]) (1.23.5)\n",
            "Requirement already satisfied: joblib>=0.11 in ./anaconda3/lib/python3.10/site-packages (from scikit-optimize[plots]) (1.1.1)\n",
            "Requirement already satisfied: scipy>=0.19.1 in ./anaconda3/lib/python3.10/site-packages (from scikit-optimize[plots]) (1.10.0)\n",
            "Requirement already satisfied: scikit-learn>=0.20.0 in ./anaconda3/lib/python3.10/site-packages (from scikit-optimize[plots]) (1.2.1)\n",
            "Requirement already satisfied: pyaml>=16.9 in ./anaconda3/lib/python3.10/site-packages (from scikit-optimize[plots]) (23.7.0)\n",
            "Requirement already satisfied: matplotlib>=2.0.0 in ./anaconda3/lib/python3.10/site-packages (from scikit-optimize[plots]) (3.7.0)\n",
            "Requirement already satisfied: pillow>=6.2.0 in ./anaconda3/lib/python3.10/site-packages (from matplotlib>=2.0.0->scikit-optimize[plots]) (9.4.0)\n",
            "Requirement already satisfied: packaging>=20.0 in ./anaconda3/lib/python3.10/site-packages (from matplotlib>=2.0.0->scikit-optimize[plots]) (22.0)\n",
            "Requirement already satisfied: pyparsing>=2.3.1 in ./anaconda3/lib/python3.10/site-packages (from matplotlib>=2.0.0->scikit-optimize[plots]) (3.0.9)\n",
            "Requirement already satisfied: cycler>=0.10 in ./anaconda3/lib/python3.10/site-packages (from matplotlib>=2.0.0->scikit-optimize[plots]) (0.11.0)\n",
            "Requirement already satisfied: kiwisolver>=1.0.1 in ./anaconda3/lib/python3.10/site-packages (from matplotlib>=2.0.0->scikit-optimize[plots]) (1.4.4)\n",
            "Requirement already satisfied: fonttools>=4.22.0 in ./anaconda3/lib/python3.10/site-packages (from matplotlib>=2.0.0->scikit-optimize[plots]) (4.25.0)\n",
            "Requirement already satisfied: contourpy>=1.0.1 in ./anaconda3/lib/python3.10/site-packages (from matplotlib>=2.0.0->scikit-optimize[plots]) (1.0.5)\n",
            "Requirement already satisfied: python-dateutil>=2.7 in ./anaconda3/lib/python3.10/site-packages (from matplotlib>=2.0.0->scikit-optimize[plots]) (2.8.2)\n",
            "Requirement already satisfied: PyYAML in ./anaconda3/lib/python3.10/site-packages (from pyaml>=16.9->scikit-optimize[plots]) (6.0)\n",
            "Requirement already satisfied: threadpoolctl>=2.0.0 in ./anaconda3/lib/python3.10/site-packages (from scikit-learn>=0.20.0->scikit-optimize[plots]) (2.2.0)\n",
            "Requirement already satisfied: six>=1.5 in ./anaconda3/lib/python3.10/site-packages (from python-dateutil>=2.7->matplotlib>=2.0.0->scikit-optimize[plots]) (1.16.0)\n"
          ]
        }
      ],
      "source": [
        "# For skopt routines\n",
        "! pip install scikit-optimize\n",
        "\n",
        "# 0.1 For plotting skopt results\n",
        "! pip install 'scikit-optimize[plots]'"
      ]
    },
    {
      "cell_type": "code",
      "execution_count": null,
      "id": "b8fd0fc3",
      "metadata": {
        "id": "b8fd0fc3",
        "outputId": "18e281b3-2d8b-4f7b-8076-cc7dbcc482b8"
      },
      "outputs": [
        {
          "name": "stdout",
          "output_type": "stream",
          "text": [
            "Collecting xgboost\n",
            "  Downloading xgboost-1.7.6-py3-none-macosx_12_0_arm64.whl (1.6 MB)\n",
            "\u001b[2K     \u001b[90m━━━━━━━━━━━━━━━━━━━━━━━━━━━━━━━━━━━━━━━━\u001b[0m \u001b[32m1.6/1.6 MB\u001b[0m \u001b[31m12.2 MB/s\u001b[0m eta \u001b[36m0:00:00\u001b[0m00:01\u001b[0m00:01\u001b[0m\n",
            "\u001b[?25hRequirement already satisfied: numpy in ./anaconda3/lib/python3.10/site-packages (from xgboost) (1.23.5)\n",
            "Requirement already satisfied: scipy in ./anaconda3/lib/python3.10/site-packages (from xgboost) (1.10.0)\n",
            "Installing collected packages: xgboost\n",
            "Successfully installed xgboost-1.7.6\n",
            "Note: you may need to restart the kernel to use updated packages.\n"
          ]
        }
      ],
      "source": [
        "pip install xgboost"
      ]
    },
    {
      "cell_type": "code",
      "execution_count": null,
      "id": "4987396d",
      "metadata": {
        "id": "4987396d"
      },
      "outputs": [],
      "source": [
        "# 1.1 Data manipulation and plotting modules\n",
        "import numpy as np\n",
        "import pandas as pd\n",
        "\n",
        "\n",
        "# 1.2 Data pre-processing\n",
        "#     z = (x-mean)/stdev\n",
        "from sklearn.preprocessing import StandardScaler as ss\n",
        "\n",
        "# 1.3 Dimensionality reduction and noise removal\n",
        "from sklearn.decomposition import PCA\n",
        "\n",
        "# 1.4 Data splitting and model parameter search\n",
        "from sklearn.model_selection import train_test_split\n",
        "from sklearn.model_selection import StratifiedKFold\n",
        "\n",
        "# 1.5 Model pipelining\n",
        "from sklearn.pipeline import Pipeline\n",
        "from sklearn.pipeline import make_pipeline\n",
        "\n",
        "# 1.6 Hyperparameter optimization\n",
        "from sklearn.model_selection import GridSearchCV\n",
        "from sklearn.model_selection import RandomizedSearchCV\n",
        "\n",
        "# 1.7.1\n",
        "from skopt import BayesSearchCV\n",
        "from skopt.space import Real, Categorical, Integer\n",
        "\n",
        "# 1.8 Modeling modules\n",
        "from xgboost.sklearn import XGBClassifier"
      ]
    },
    {
      "cell_type": "code",
      "execution_count": null,
      "id": "b1e3c681",
      "metadata": {
        "id": "b1e3c681"
      },
      "outputs": [],
      "source": [
        "import pandas as pd #Dataframe Manipulation library\n",
        "import numpy as np #Data Manipulation library\n",
        "\n",
        "#sklearn modules for Decision Trees\n",
        "from sklearn.preprocessing import LabelEncoder, OneHotEncoder, StandardScaler, MinMaxScaler\n",
        "from sklearn.model_selection import train_test_split, GridSearchCV\n",
        "#from sklearn.ensemble import RandomForestClassifier\n",
        "from xgboost import XGBClassifier\n",
        "from sklearn.metrics import confusion_matrix\n",
        "import itertools\n",
        "\n",
        "#Libraries for HyperParameter Tuning\n",
        "from sklearn.pipeline import Pipeline\n",
        "from sklearn.compose import ColumnTransformer\n",
        "from sklearn.impute import SimpleImputer\n",
        "\n",
        "#Libraries for Plotting\n",
        "import matplotlib.pyplot as plt\n",
        "%matplotlib inline\n",
        "import seaborn as sns\n",
        "sns.set(color_codes = True)\n",
        "import plotly.graph_objects as go\n",
        "\n",
        "import joblib  #python package to store entire logic of a variable in python\n"
      ]
    },
    {
      "cell_type": "code",
      "execution_count": null,
      "id": "97e5a86e",
      "metadata": {
        "id": "97e5a86e"
      },
      "outputs": [],
      "source": [
        "from IPython.core.interactiveshell import InteractiveShell\n",
        "InteractiveShell.ast_node_interactivity = \"all\""
      ]
    },
    {
      "cell_type": "markdown",
      "id": "16c102cd",
      "metadata": {
        "id": "16c102cd"
      },
      "source": [
        "**Reading Data**"
      ]
    },
    {
      "cell_type": "code",
      "execution_count": null,
      "id": "4673a2ae",
      "metadata": {
        "id": "4673a2ae"
      },
      "outputs": [],
      "source": [
        "data = pd.read_csv('/Users/ravindratiwari/Downloads/archive (1)/train.csv')"
      ]
    },
    {
      "cell_type": "code",
      "execution_count": null,
      "id": "4248772e",
      "metadata": {
        "id": "4248772e",
        "outputId": "f9485571-cc65-4c65-8b2d-7459bd5d0d0a"
      },
      "outputs": [
        {
          "data": {
            "text/html": [
              "<div>\n",
              "<style scoped>\n",
              "    .dataframe tbody tr th:only-of-type {\n",
              "        vertical-align: middle;\n",
              "    }\n",
              "\n",
              "    .dataframe tbody tr th {\n",
              "        vertical-align: top;\n",
              "    }\n",
              "\n",
              "    .dataframe thead th {\n",
              "        text-align: right;\n",
              "    }\n",
              "</style>\n",
              "<table border=\"1\" class=\"dataframe\">\n",
              "  <thead>\n",
              "    <tr style=\"text-align: right;\">\n",
              "      <th></th>\n",
              "      <th>Unnamed: 0</th>\n",
              "      <th>id</th>\n",
              "      <th>Gender</th>\n",
              "      <th>Customer Type</th>\n",
              "      <th>Age</th>\n",
              "      <th>Type of Travel</th>\n",
              "      <th>Class</th>\n",
              "      <th>Flight Distance</th>\n",
              "      <th>Inflight wifi service</th>\n",
              "      <th>Departure/Arrival time convenient</th>\n",
              "      <th>...</th>\n",
              "      <th>Inflight entertainment</th>\n",
              "      <th>On-board service</th>\n",
              "      <th>Leg room service</th>\n",
              "      <th>Baggage handling</th>\n",
              "      <th>Checkin service</th>\n",
              "      <th>Inflight service</th>\n",
              "      <th>Cleanliness</th>\n",
              "      <th>Departure Delay in Minutes</th>\n",
              "      <th>Arrival Delay in Minutes</th>\n",
              "      <th>satisfaction</th>\n",
              "    </tr>\n",
              "  </thead>\n",
              "  <tbody>\n",
              "    <tr>\n",
              "      <th>0</th>\n",
              "      <td>0</td>\n",
              "      <td>70172</td>\n",
              "      <td>Male</td>\n",
              "      <td>Loyal Customer</td>\n",
              "      <td>13</td>\n",
              "      <td>Personal Travel</td>\n",
              "      <td>Eco Plus</td>\n",
              "      <td>460</td>\n",
              "      <td>3</td>\n",
              "      <td>4</td>\n",
              "      <td>...</td>\n",
              "      <td>5</td>\n",
              "      <td>4</td>\n",
              "      <td>3</td>\n",
              "      <td>4</td>\n",
              "      <td>4</td>\n",
              "      <td>5</td>\n",
              "      <td>5</td>\n",
              "      <td>25</td>\n",
              "      <td>18.0</td>\n",
              "      <td>neutral or dissatisfied</td>\n",
              "    </tr>\n",
              "    <tr>\n",
              "      <th>1</th>\n",
              "      <td>1</td>\n",
              "      <td>5047</td>\n",
              "      <td>Male</td>\n",
              "      <td>disloyal Customer</td>\n",
              "      <td>25</td>\n",
              "      <td>Business travel</td>\n",
              "      <td>Business</td>\n",
              "      <td>235</td>\n",
              "      <td>3</td>\n",
              "      <td>2</td>\n",
              "      <td>...</td>\n",
              "      <td>1</td>\n",
              "      <td>1</td>\n",
              "      <td>5</td>\n",
              "      <td>3</td>\n",
              "      <td>1</td>\n",
              "      <td>4</td>\n",
              "      <td>1</td>\n",
              "      <td>1</td>\n",
              "      <td>6.0</td>\n",
              "      <td>neutral or dissatisfied</td>\n",
              "    </tr>\n",
              "    <tr>\n",
              "      <th>2</th>\n",
              "      <td>2</td>\n",
              "      <td>110028</td>\n",
              "      <td>Female</td>\n",
              "      <td>Loyal Customer</td>\n",
              "      <td>26</td>\n",
              "      <td>Business travel</td>\n",
              "      <td>Business</td>\n",
              "      <td>1142</td>\n",
              "      <td>2</td>\n",
              "      <td>2</td>\n",
              "      <td>...</td>\n",
              "      <td>5</td>\n",
              "      <td>4</td>\n",
              "      <td>3</td>\n",
              "      <td>4</td>\n",
              "      <td>4</td>\n",
              "      <td>4</td>\n",
              "      <td>5</td>\n",
              "      <td>0</td>\n",
              "      <td>0.0</td>\n",
              "      <td>satisfied</td>\n",
              "    </tr>\n",
              "    <tr>\n",
              "      <th>3</th>\n",
              "      <td>3</td>\n",
              "      <td>24026</td>\n",
              "      <td>Female</td>\n",
              "      <td>Loyal Customer</td>\n",
              "      <td>25</td>\n",
              "      <td>Business travel</td>\n",
              "      <td>Business</td>\n",
              "      <td>562</td>\n",
              "      <td>2</td>\n",
              "      <td>5</td>\n",
              "      <td>...</td>\n",
              "      <td>2</td>\n",
              "      <td>2</td>\n",
              "      <td>5</td>\n",
              "      <td>3</td>\n",
              "      <td>1</td>\n",
              "      <td>4</td>\n",
              "      <td>2</td>\n",
              "      <td>11</td>\n",
              "      <td>9.0</td>\n",
              "      <td>neutral or dissatisfied</td>\n",
              "    </tr>\n",
              "    <tr>\n",
              "      <th>4</th>\n",
              "      <td>4</td>\n",
              "      <td>119299</td>\n",
              "      <td>Male</td>\n",
              "      <td>Loyal Customer</td>\n",
              "      <td>61</td>\n",
              "      <td>Business travel</td>\n",
              "      <td>Business</td>\n",
              "      <td>214</td>\n",
              "      <td>3</td>\n",
              "      <td>3</td>\n",
              "      <td>...</td>\n",
              "      <td>3</td>\n",
              "      <td>3</td>\n",
              "      <td>4</td>\n",
              "      <td>4</td>\n",
              "      <td>3</td>\n",
              "      <td>3</td>\n",
              "      <td>3</td>\n",
              "      <td>0</td>\n",
              "      <td>0.0</td>\n",
              "      <td>satisfied</td>\n",
              "    </tr>\n",
              "  </tbody>\n",
              "</table>\n",
              "<p>5 rows × 25 columns</p>\n",
              "</div>"
            ],
            "text/plain": [
              "   Unnamed: 0      id  Gender      Customer Type  Age   Type of Travel  \\\n",
              "0           0   70172    Male     Loyal Customer   13  Personal Travel   \n",
              "1           1    5047    Male  disloyal Customer   25  Business travel   \n",
              "2           2  110028  Female     Loyal Customer   26  Business travel   \n",
              "3           3   24026  Female     Loyal Customer   25  Business travel   \n",
              "4           4  119299    Male     Loyal Customer   61  Business travel   \n",
              "\n",
              "      Class  Flight Distance  Inflight wifi service  \\\n",
              "0  Eco Plus              460                      3   \n",
              "1  Business              235                      3   \n",
              "2  Business             1142                      2   \n",
              "3  Business              562                      2   \n",
              "4  Business              214                      3   \n",
              "\n",
              "   Departure/Arrival time convenient  ...  Inflight entertainment  \\\n",
              "0                                  4  ...                       5   \n",
              "1                                  2  ...                       1   \n",
              "2                                  2  ...                       5   \n",
              "3                                  5  ...                       2   \n",
              "4                                  3  ...                       3   \n",
              "\n",
              "   On-board service  Leg room service  Baggage handling  Checkin service  \\\n",
              "0                 4                 3                 4                4   \n",
              "1                 1                 5                 3                1   \n",
              "2                 4                 3                 4                4   \n",
              "3                 2                 5                 3                1   \n",
              "4                 3                 4                 4                3   \n",
              "\n",
              "   Inflight service  Cleanliness  Departure Delay in Minutes  \\\n",
              "0                 5            5                          25   \n",
              "1                 4            1                           1   \n",
              "2                 4            5                           0   \n",
              "3                 4            2                          11   \n",
              "4                 3            3                           0   \n",
              "\n",
              "   Arrival Delay in Minutes             satisfaction  \n",
              "0                      18.0  neutral or dissatisfied  \n",
              "1                       6.0  neutral or dissatisfied  \n",
              "2                       0.0                satisfied  \n",
              "3                       9.0  neutral or dissatisfied  \n",
              "4                       0.0                satisfied  \n",
              "\n",
              "[5 rows x 25 columns]"
            ]
          },
          "execution_count": 8,
          "metadata": {},
          "output_type": "execute_result"
        }
      ],
      "source": [
        "data.head()"
      ]
    },
    {
      "cell_type": "code",
      "execution_count": null,
      "id": "740ff3c9",
      "metadata": {
        "id": "740ff3c9",
        "outputId": "8e61e8be-a2eb-4009-bd4d-abf6ce72cdd3"
      },
      "outputs": [
        {
          "data": {
            "text/plain": [
              "(103904, 25)"
            ]
          },
          "execution_count": 9,
          "metadata": {},
          "output_type": "execute_result"
        }
      ],
      "source": [
        "data.shape"
      ]
    },
    {
      "cell_type": "code",
      "execution_count": null,
      "id": "8d8addb7",
      "metadata": {
        "id": "8d8addb7",
        "outputId": "243d6a4c-66bc-4474-c4ec-0d9dce29d631"
      },
      "outputs": [
        {
          "name": "stdout",
          "output_type": "stream",
          "text": [
            "The dataset columns are: \n",
            "Index(['Unnamed: 0', 'id', 'Gender', 'Customer Type', 'Age', 'Type of Travel',\n",
            "       'Class', 'Flight Distance', 'Inflight wifi service',\n",
            "       'Departure/Arrival time convenient', 'Ease of Online booking',\n",
            "       'Gate location', 'Food and drink', 'Online boarding', 'Seat comfort',\n",
            "       'Inflight entertainment', 'On-board service', 'Leg room service',\n",
            "       'Baggage handling', 'Checkin service', 'Inflight service',\n",
            "       'Cleanliness', 'Departure Delay in Minutes', 'Arrival Delay in Minutes',\n",
            "       'satisfaction'],\n",
            "      dtype='object')\n",
            "\n",
            "The datatypes are : Unnamed: 0                             int64\n",
            "id                                     int64\n",
            "Gender                                object\n",
            "Customer Type                         object\n",
            "Age                                    int64\n",
            "Type of Travel                        object\n",
            "Class                                 object\n",
            "Flight Distance                        int64\n",
            "Inflight wifi service                  int64\n",
            "Departure/Arrival time convenient      int64\n",
            "Ease of Online booking                 int64\n",
            "Gate location                          int64\n",
            "Food and drink                         int64\n",
            "Online boarding                        int64\n",
            "Seat comfort                           int64\n",
            "Inflight entertainment                 int64\n",
            "On-board service                       int64\n",
            "Leg room service                       int64\n",
            "Baggage handling                       int64\n",
            "Checkin service                        int64\n",
            "Inflight service                       int64\n",
            "Cleanliness                            int64\n",
            "Departure Delay in Minutes             int64\n",
            "Arrival Delay in Minutes             float64\n",
            "satisfaction                          object\n",
            "dtype: object\n",
            "\n",
            "The size of Training dataset is: (103904, 25)\n"
          ]
        }
      ],
      "source": [
        "print(\"The dataset columns are: \")\n",
        "print(data.columns)\n",
        "print(f\"\\nThe datatypes are : {data.dtypes}\")\n",
        "print(f\"\\nThe size of Training dataset is: {data.shape}\")"
      ]
    },
    {
      "cell_type": "code",
      "execution_count": null,
      "id": "a2013004",
      "metadata": {
        "id": "a2013004",
        "outputId": "95cd98f3-07bc-4e53-ae0e-8f3af4004f8a"
      },
      "outputs": [
        {
          "data": {
            "text/plain": [
              "neutral or dissatisfied    58879\n",
              "satisfied                  45025\n",
              "Name: satisfaction, dtype: int64"
            ]
          },
          "execution_count": 15,
          "metadata": {},
          "output_type": "execute_result"
        }
      ],
      "source": [
        "data[\"satisfaction\"].value_counts()"
      ]
    },
    {
      "cell_type": "markdown",
      "id": "95ad690b",
      "metadata": {
        "id": "95ad690b"
      },
      "source": [
        "**Mapping the categorical target**"
      ]
    },
    {
      "cell_type": "code",
      "execution_count": null,
      "id": "ddea6d25",
      "metadata": {
        "id": "ddea6d25"
      },
      "outputs": [],
      "source": [
        "data['satisfaction'] = data['satisfaction'].map({'neutral or dissatisfied' : 0, 'satisfied':1})"
      ]
    },
    {
      "cell_type": "code",
      "execution_count": null,
      "id": "596cb49f",
      "metadata": {
        "id": "596cb49f",
        "outputId": "7312d321-0d9a-4abe-c1a3-946e3e48666f"
      },
      "outputs": [
        {
          "name": "stdout",
          "output_type": "stream",
          "text": [
            "Features for training data are: Index(['Gender', 'Customer Type', 'Age', 'Type of Travel', 'Class',\n",
            "       'Flight Distance', 'Inflight wifi service',\n",
            "       'Departure/Arrival time convenient', 'Ease of Online booking',\n",
            "       'Gate location', 'Food and drink', 'Online boarding', 'Seat comfort',\n",
            "       'Inflight entertainment', 'On-board service', 'Leg room service',\n",
            "       'Baggage handling', 'Checkin service', 'Inflight service',\n",
            "       'Cleanliness', 'Departure Delay in Minutes',\n",
            "       'Arrival Delay in Minutes'],\n",
            "      dtype='object')\n"
          ]
        }
      ],
      "source": [
        "#Keeping relevant features in the dataframe\n",
        "df_feat = data.iloc[0:, 2:data.shape[1]-1]  #dropping 'Unnamed: 0', 'id',satisfaction\n",
        "#df.shape[1] : number of columns in dataframe and 2: df.shape[1][-1] :: All columns from col with 2nd index upto last column\n",
        "print(f\"Features for training data are: {df_feat.columns}\")\n"
      ]
    },
    {
      "cell_type": "code",
      "execution_count": null,
      "id": "c610888a",
      "metadata": {
        "id": "c610888a"
      },
      "outputs": [],
      "source": [
        "y = data.pop('satisfaction')"
      ]
    },
    {
      "cell_type": "markdown",
      "id": "b0f5f984",
      "metadata": {
        "id": "b0f5f984"
      },
      "source": [
        "**Splitting the data into Training and Testing dataset**"
      ]
    },
    {
      "cell_type": "code",
      "execution_count": null,
      "id": "b3ffc589",
      "metadata": {
        "id": "b3ffc589",
        "outputId": "1147de84-25a6-4d23-999b-749bf0516a0f"
      },
      "outputs": [
        {
          "name": "stdout",
          "output_type": "stream",
          "text": [
            "Shape of Input Training Dataset: (93513, 22)\n",
            "Shape of Input Test Dataset: (10391, 22)\n",
            "Shape of Target Training Dataset: (93513,)\n",
            "Shape of Target Test Dataset: (10391,)\n"
          ]
        }
      ],
      "source": [
        "#Splitting the dataset into training and test dataset\n",
        "x_train, x_test, y_train, y_test = train_test_split(df_feat,y,\n",
        "                                                   test_size = 0.1,\n",
        "                                                   random_state = 41)\n",
        "#we can consider entire data as training data instead of splitting as we have seperate test data\n",
        "\n",
        "print(f\"Shape of Input Training Dataset: {x_train.shape}\")\n",
        "print(f\"Shape of Input Test Dataset: {x_test.shape}\")\n",
        "print(f\"Shape of Target Training Dataset: {y_train.shape}\")\n",
        "print(f\"Shape of Target Test Dataset: {y_test.shape}\")"
      ]
    },
    {
      "cell_type": "code",
      "execution_count": null,
      "id": "011d5a29",
      "metadata": {
        "id": "011d5a29"
      },
      "outputs": [],
      "source": [
        "#Seperating the categorical and numerical data\n",
        "features = ['Gender', 'Customer Type', 'Age', 'Type of Travel', 'Class',\n",
        "       'Flight Distance', 'Inflight wifi service',\n",
        "       'Departure/Arrival time convenient', 'Ease of Online booking',\n",
        "       'Gate location', 'Food and drink', 'Online boarding', 'Seat comfort',\n",
        "       'Inflight entertainment', 'On-board service', 'Leg room service',\n",
        "       'Baggage handling', 'Checkin service', 'Inflight service',\n",
        "       'Cleanliness', 'Departure Delay in Minutes',\n",
        "       'Arrival Delay in Minutes']\n",
        "\n",
        "categorical_features = ['Gender', 'Customer Type', 'Type of Travel', 'Class',]\n",
        "numerical_features = [feature for feature in features if feature not in categorical_features]"
      ]
    },
    {
      "cell_type": "code",
      "execution_count": null,
      "id": "815ec612",
      "metadata": {
        "id": "815ec612"
      },
      "outputs": [],
      "source": [
        "# Preprocessing for numerical data\n",
        "numerical_transformer = Pipeline(steps=[\n",
        "    ('imputer',SimpleImputer(strategy='median')),\n",
        "    ('scaler',StandardScaler())\n",
        "])"
      ]
    },
    {
      "cell_type": "code",
      "execution_count": null,
      "id": "72f0d998",
      "metadata": {
        "id": "72f0d998"
      },
      "outputs": [],
      "source": [
        "# Preprocessing for categorical data\n",
        "categorical_transformer = Pipeline(steps=[\n",
        "    ('imputer',SimpleImputer(strategy='most_frequent', fill_value='missing')),\n",
        "    ('encoder',OneHotEncoder(handle_unknown='ignore'))\n",
        "])\n",
        "\n",
        "preprocessor = ColumnTransformer(\n",
        "    transformers=[\n",
        "        ('num',numerical_transformer,numerical_features),\n",
        "        ('cat',categorical_transformer,categorical_features)\n",
        "    ])\n"
      ]
    },
    {
      "cell_type": "code",
      "execution_count": null,
      "id": "2a6e0a8b",
      "metadata": {
        "id": "2a6e0a8b"
      },
      "outputs": [],
      "source": [
        "# Bundle preprocessing and modeling code in a pipeline\n",
        "clf_xg = Pipeline(steps=[\n",
        "    ('preprocessor',preprocessor),\n",
        "    ('pca', PCA()),\n",
        "    ('classifier',XGBClassifier() ) # Define model\n",
        "])"
      ]
    },
    {
      "cell_type": "markdown",
      "id": "14cc20f2",
      "metadata": {
        "id": "14cc20f2"
      },
      "source": [
        "**Fitting the data**"
      ]
    },
    {
      "cell_type": "code",
      "execution_count": null,
      "id": "1bfd04f0",
      "metadata": {
        "id": "1bfd04f0",
        "outputId": "0b8c36a7-0df6-45c5-e95b-f3dfd1d3e1bb"
      },
      "outputs": [
        {
          "data": {
            "text/html": [
              "<style>#sk-container-id-1 {color: black;background-color: white;}#sk-container-id-1 pre{padding: 0;}#sk-container-id-1 div.sk-toggleable {background-color: white;}#sk-container-id-1 label.sk-toggleable__label {cursor: pointer;display: block;width: 100%;margin-bottom: 0;padding: 0.3em;box-sizing: border-box;text-align: center;}#sk-container-id-1 label.sk-toggleable__label-arrow:before {content: \"▸\";float: left;margin-right: 0.25em;color: #696969;}#sk-container-id-1 label.sk-toggleable__label-arrow:hover:before {color: black;}#sk-container-id-1 div.sk-estimator:hover label.sk-toggleable__label-arrow:before {color: black;}#sk-container-id-1 div.sk-toggleable__content {max-height: 0;max-width: 0;overflow: hidden;text-align: left;background-color: #f0f8ff;}#sk-container-id-1 div.sk-toggleable__content pre {margin: 0.2em;color: black;border-radius: 0.25em;background-color: #f0f8ff;}#sk-container-id-1 input.sk-toggleable__control:checked~div.sk-toggleable__content {max-height: 200px;max-width: 100%;overflow: auto;}#sk-container-id-1 input.sk-toggleable__control:checked~label.sk-toggleable__label-arrow:before {content: \"▾\";}#sk-container-id-1 div.sk-estimator input.sk-toggleable__control:checked~label.sk-toggleable__label {background-color: #d4ebff;}#sk-container-id-1 div.sk-label input.sk-toggleable__control:checked~label.sk-toggleable__label {background-color: #d4ebff;}#sk-container-id-1 input.sk-hidden--visually {border: 0;clip: rect(1px 1px 1px 1px);clip: rect(1px, 1px, 1px, 1px);height: 1px;margin: -1px;overflow: hidden;padding: 0;position: absolute;width: 1px;}#sk-container-id-1 div.sk-estimator {font-family: monospace;background-color: #f0f8ff;border: 1px dotted black;border-radius: 0.25em;box-sizing: border-box;margin-bottom: 0.5em;}#sk-container-id-1 div.sk-estimator:hover {background-color: #d4ebff;}#sk-container-id-1 div.sk-parallel-item::after {content: \"\";width: 100%;border-bottom: 1px solid gray;flex-grow: 1;}#sk-container-id-1 div.sk-label:hover label.sk-toggleable__label {background-color: #d4ebff;}#sk-container-id-1 div.sk-serial::before {content: \"\";position: absolute;border-left: 1px solid gray;box-sizing: border-box;top: 0;bottom: 0;left: 50%;z-index: 0;}#sk-container-id-1 div.sk-serial {display: flex;flex-direction: column;align-items: center;background-color: white;padding-right: 0.2em;padding-left: 0.2em;position: relative;}#sk-container-id-1 div.sk-item {position: relative;z-index: 1;}#sk-container-id-1 div.sk-parallel {display: flex;align-items: stretch;justify-content: center;background-color: white;position: relative;}#sk-container-id-1 div.sk-item::before, #sk-container-id-1 div.sk-parallel-item::before {content: \"\";position: absolute;border-left: 1px solid gray;box-sizing: border-box;top: 0;bottom: 0;left: 50%;z-index: -1;}#sk-container-id-1 div.sk-parallel-item {display: flex;flex-direction: column;z-index: 1;position: relative;background-color: white;}#sk-container-id-1 div.sk-parallel-item:first-child::after {align-self: flex-end;width: 50%;}#sk-container-id-1 div.sk-parallel-item:last-child::after {align-self: flex-start;width: 50%;}#sk-container-id-1 div.sk-parallel-item:only-child::after {width: 0;}#sk-container-id-1 div.sk-dashed-wrapped {border: 1px dashed gray;margin: 0 0.4em 0.5em 0.4em;box-sizing: border-box;padding-bottom: 0.4em;background-color: white;}#sk-container-id-1 div.sk-label label {font-family: monospace;font-weight: bold;display: inline-block;line-height: 1.2em;}#sk-container-id-1 div.sk-label-container {text-align: center;}#sk-container-id-1 div.sk-container {/* jupyter's `normalize.less` sets `[hidden] { display: none; }` but bootstrap.min.css set `[hidden] { display: none !important; }` so we also need the `!important` here to be able to override the default hidden behavior on the sphinx rendered scikit-learn.org. See: https://github.com/scikit-learn/scikit-learn/issues/21755 */display: inline-block !important;position: relative;}#sk-container-id-1 div.sk-text-repr-fallback {display: none;}</style><div id=\"sk-container-id-1\" class=\"sk-top-container\"><div class=\"sk-text-repr-fallback\"><pre>Pipeline(steps=[(&#x27;preprocessor&#x27;,\n",
              "                 ColumnTransformer(transformers=[(&#x27;num&#x27;,\n",
              "                                                  Pipeline(steps=[(&#x27;imputer&#x27;,\n",
              "                                                                   SimpleImputer(strategy=&#x27;median&#x27;)),\n",
              "                                                                  (&#x27;scaler&#x27;,\n",
              "                                                                   StandardScaler())]),\n",
              "                                                  [&#x27;Age&#x27;, &#x27;Flight Distance&#x27;,\n",
              "                                                   &#x27;Inflight wifi service&#x27;,\n",
              "                                                   &#x27;Departure/Arrival time &#x27;\n",
              "                                                   &#x27;convenient&#x27;,\n",
              "                                                   &#x27;Ease of Online booking&#x27;,\n",
              "                                                   &#x27;Gate location&#x27;,\n",
              "                                                   &#x27;Food and drink&#x27;,\n",
              "                                                   &#x27;Online boarding&#x27;,\n",
              "                                                   &#x27;Seat comfort&#x27;,\n",
              "                                                   &#x27;Inflight entertainment&#x27;...\n",
              "                               feature_types=None, gamma=None, gpu_id=None,\n",
              "                               grow_policy=None, importance_type=None,\n",
              "                               interaction_constraints=None, learning_rate=None,\n",
              "                               max_bin=None, max_cat_threshold=None,\n",
              "                               max_cat_to_onehot=None, max_delta_step=None,\n",
              "                               max_depth=None, max_leaves=None,\n",
              "                               min_child_weight=None, missing=nan,\n",
              "                               monotone_constraints=None, n_estimators=100,\n",
              "                               n_jobs=None, num_parallel_tree=None,\n",
              "                               predictor=None, random_state=None, ...))])</pre><b>In a Jupyter environment, please rerun this cell to show the HTML representation or trust the notebook. <br />On GitHub, the HTML representation is unable to render, please try loading this page with nbviewer.org.</b></div><div class=\"sk-container\" hidden><div class=\"sk-item sk-dashed-wrapped\"><div class=\"sk-label-container\"><div class=\"sk-label sk-toggleable\"><input class=\"sk-toggleable__control sk-hidden--visually\" id=\"sk-estimator-id-1\" type=\"checkbox\" ><label for=\"sk-estimator-id-1\" class=\"sk-toggleable__label sk-toggleable__label-arrow\">Pipeline</label><div class=\"sk-toggleable__content\"><pre>Pipeline(steps=[(&#x27;preprocessor&#x27;,\n",
              "                 ColumnTransformer(transformers=[(&#x27;num&#x27;,\n",
              "                                                  Pipeline(steps=[(&#x27;imputer&#x27;,\n",
              "                                                                   SimpleImputer(strategy=&#x27;median&#x27;)),\n",
              "                                                                  (&#x27;scaler&#x27;,\n",
              "                                                                   StandardScaler())]),\n",
              "                                                  [&#x27;Age&#x27;, &#x27;Flight Distance&#x27;,\n",
              "                                                   &#x27;Inflight wifi service&#x27;,\n",
              "                                                   &#x27;Departure/Arrival time &#x27;\n",
              "                                                   &#x27;convenient&#x27;,\n",
              "                                                   &#x27;Ease of Online booking&#x27;,\n",
              "                                                   &#x27;Gate location&#x27;,\n",
              "                                                   &#x27;Food and drink&#x27;,\n",
              "                                                   &#x27;Online boarding&#x27;,\n",
              "                                                   &#x27;Seat comfort&#x27;,\n",
              "                                                   &#x27;Inflight entertainment&#x27;...\n",
              "                               feature_types=None, gamma=None, gpu_id=None,\n",
              "                               grow_policy=None, importance_type=None,\n",
              "                               interaction_constraints=None, learning_rate=None,\n",
              "                               max_bin=None, max_cat_threshold=None,\n",
              "                               max_cat_to_onehot=None, max_delta_step=None,\n",
              "                               max_depth=None, max_leaves=None,\n",
              "                               min_child_weight=None, missing=nan,\n",
              "                               monotone_constraints=None, n_estimators=100,\n",
              "                               n_jobs=None, num_parallel_tree=None,\n",
              "                               predictor=None, random_state=None, ...))])</pre></div></div></div><div class=\"sk-serial\"><div class=\"sk-item sk-dashed-wrapped\"><div class=\"sk-label-container\"><div class=\"sk-label sk-toggleable\"><input class=\"sk-toggleable__control sk-hidden--visually\" id=\"sk-estimator-id-2\" type=\"checkbox\" ><label for=\"sk-estimator-id-2\" class=\"sk-toggleable__label sk-toggleable__label-arrow\">preprocessor: ColumnTransformer</label><div class=\"sk-toggleable__content\"><pre>ColumnTransformer(transformers=[(&#x27;num&#x27;,\n",
              "                                 Pipeline(steps=[(&#x27;imputer&#x27;,\n",
              "                                                  SimpleImputer(strategy=&#x27;median&#x27;)),\n",
              "                                                 (&#x27;scaler&#x27;, StandardScaler())]),\n",
              "                                 [&#x27;Age&#x27;, &#x27;Flight Distance&#x27;,\n",
              "                                  &#x27;Inflight wifi service&#x27;,\n",
              "                                  &#x27;Departure/Arrival time convenient&#x27;,\n",
              "                                  &#x27;Ease of Online booking&#x27;, &#x27;Gate location&#x27;,\n",
              "                                  &#x27;Food and drink&#x27;, &#x27;Online boarding&#x27;,\n",
              "                                  &#x27;Seat comfort&#x27;, &#x27;Inflight entertainment&#x27;,\n",
              "                                  &#x27;On-board service&#x27;, &#x27;Leg room service&#x27;,\n",
              "                                  &#x27;Baggage handling&#x27;, &#x27;Checkin service&#x27;,\n",
              "                                  &#x27;Inflight service&#x27;, &#x27;Cleanliness&#x27;,\n",
              "                                  &#x27;Departure Delay in Minutes&#x27;,\n",
              "                                  &#x27;Arrival Delay in Minutes&#x27;]),\n",
              "                                (&#x27;cat&#x27;,\n",
              "                                 Pipeline(steps=[(&#x27;imputer&#x27;,\n",
              "                                                  SimpleImputer(fill_value=&#x27;missing&#x27;,\n",
              "                                                                strategy=&#x27;most_frequent&#x27;)),\n",
              "                                                 (&#x27;encoder&#x27;,\n",
              "                                                  OneHotEncoder(handle_unknown=&#x27;ignore&#x27;))]),\n",
              "                                 [&#x27;Gender&#x27;, &#x27;Customer Type&#x27;, &#x27;Type of Travel&#x27;,\n",
              "                                  &#x27;Class&#x27;])])</pre></div></div></div><div class=\"sk-parallel\"><div class=\"sk-parallel-item\"><div class=\"sk-item\"><div class=\"sk-label-container\"><div class=\"sk-label sk-toggleable\"><input class=\"sk-toggleable__control sk-hidden--visually\" id=\"sk-estimator-id-3\" type=\"checkbox\" ><label for=\"sk-estimator-id-3\" class=\"sk-toggleable__label sk-toggleable__label-arrow\">num</label><div class=\"sk-toggleable__content\"><pre>[&#x27;Age&#x27;, &#x27;Flight Distance&#x27;, &#x27;Inflight wifi service&#x27;, &#x27;Departure/Arrival time convenient&#x27;, &#x27;Ease of Online booking&#x27;, &#x27;Gate location&#x27;, &#x27;Food and drink&#x27;, &#x27;Online boarding&#x27;, &#x27;Seat comfort&#x27;, &#x27;Inflight entertainment&#x27;, &#x27;On-board service&#x27;, &#x27;Leg room service&#x27;, &#x27;Baggage handling&#x27;, &#x27;Checkin service&#x27;, &#x27;Inflight service&#x27;, &#x27;Cleanliness&#x27;, &#x27;Departure Delay in Minutes&#x27;, &#x27;Arrival Delay in Minutes&#x27;]</pre></div></div></div><div class=\"sk-serial\"><div class=\"sk-item\"><div class=\"sk-serial\"><div class=\"sk-item\"><div class=\"sk-estimator sk-toggleable\"><input class=\"sk-toggleable__control sk-hidden--visually\" id=\"sk-estimator-id-4\" type=\"checkbox\" ><label for=\"sk-estimator-id-4\" class=\"sk-toggleable__label sk-toggleable__label-arrow\">SimpleImputer</label><div class=\"sk-toggleable__content\"><pre>SimpleImputer(strategy=&#x27;median&#x27;)</pre></div></div></div><div class=\"sk-item\"><div class=\"sk-estimator sk-toggleable\"><input class=\"sk-toggleable__control sk-hidden--visually\" id=\"sk-estimator-id-5\" type=\"checkbox\" ><label for=\"sk-estimator-id-5\" class=\"sk-toggleable__label sk-toggleable__label-arrow\">StandardScaler</label><div class=\"sk-toggleable__content\"><pre>StandardScaler()</pre></div></div></div></div></div></div></div></div><div class=\"sk-parallel-item\"><div class=\"sk-item\"><div class=\"sk-label-container\"><div class=\"sk-label sk-toggleable\"><input class=\"sk-toggleable__control sk-hidden--visually\" id=\"sk-estimator-id-6\" type=\"checkbox\" ><label for=\"sk-estimator-id-6\" class=\"sk-toggleable__label sk-toggleable__label-arrow\">cat</label><div class=\"sk-toggleable__content\"><pre>[&#x27;Gender&#x27;, &#x27;Customer Type&#x27;, &#x27;Type of Travel&#x27;, &#x27;Class&#x27;]</pre></div></div></div><div class=\"sk-serial\"><div class=\"sk-item\"><div class=\"sk-serial\"><div class=\"sk-item\"><div class=\"sk-estimator sk-toggleable\"><input class=\"sk-toggleable__control sk-hidden--visually\" id=\"sk-estimator-id-7\" type=\"checkbox\" ><label for=\"sk-estimator-id-7\" class=\"sk-toggleable__label sk-toggleable__label-arrow\">SimpleImputer</label><div class=\"sk-toggleable__content\"><pre>SimpleImputer(fill_value=&#x27;missing&#x27;, strategy=&#x27;most_frequent&#x27;)</pre></div></div></div><div class=\"sk-item\"><div class=\"sk-estimator sk-toggleable\"><input class=\"sk-toggleable__control sk-hidden--visually\" id=\"sk-estimator-id-8\" type=\"checkbox\" ><label for=\"sk-estimator-id-8\" class=\"sk-toggleable__label sk-toggleable__label-arrow\">OneHotEncoder</label><div class=\"sk-toggleable__content\"><pre>OneHotEncoder(handle_unknown=&#x27;ignore&#x27;)</pre></div></div></div></div></div></div></div></div></div></div><div class=\"sk-item\"><div class=\"sk-estimator sk-toggleable\"><input class=\"sk-toggleable__control sk-hidden--visually\" id=\"sk-estimator-id-9\" type=\"checkbox\" ><label for=\"sk-estimator-id-9\" class=\"sk-toggleable__label sk-toggleable__label-arrow\">PCA</label><div class=\"sk-toggleable__content\"><pre>PCA()</pre></div></div></div><div class=\"sk-item\"><div class=\"sk-estimator sk-toggleable\"><input class=\"sk-toggleable__control sk-hidden--visually\" id=\"sk-estimator-id-10\" type=\"checkbox\" ><label for=\"sk-estimator-id-10\" class=\"sk-toggleable__label sk-toggleable__label-arrow\">XGBClassifier</label><div class=\"sk-toggleable__content\"><pre>XGBClassifier(base_score=None, booster=None, callbacks=None,\n",
              "              colsample_bylevel=None, colsample_bynode=None,\n",
              "              colsample_bytree=None, early_stopping_rounds=None,\n",
              "              enable_categorical=False, eval_metric=None, feature_types=None,\n",
              "              gamma=None, gpu_id=None, grow_policy=None, importance_type=None,\n",
              "              interaction_constraints=None, learning_rate=None, max_bin=None,\n",
              "              max_cat_threshold=None, max_cat_to_onehot=None,\n",
              "              max_delta_step=None, max_depth=None, max_leaves=None,\n",
              "              min_child_weight=None, missing=nan, monotone_constraints=None,\n",
              "              n_estimators=100, n_jobs=None, num_parallel_tree=None,\n",
              "              predictor=None, random_state=None, ...)</pre></div></div></div></div></div></div></div>"
            ],
            "text/plain": [
              "Pipeline(steps=[('preprocessor',\n",
              "                 ColumnTransformer(transformers=[('num',\n",
              "                                                  Pipeline(steps=[('imputer',\n",
              "                                                                   SimpleImputer(strategy='median')),\n",
              "                                                                  ('scaler',\n",
              "                                                                   StandardScaler())]),\n",
              "                                                  ['Age', 'Flight Distance',\n",
              "                                                   'Inflight wifi service',\n",
              "                                                   'Departure/Arrival time '\n",
              "                                                   'convenient',\n",
              "                                                   'Ease of Online booking',\n",
              "                                                   'Gate location',\n",
              "                                                   'Food and drink',\n",
              "                                                   'Online boarding',\n",
              "                                                   'Seat comfort',\n",
              "                                                   'Inflight entertainment'...\n",
              "                               feature_types=None, gamma=None, gpu_id=None,\n",
              "                               grow_policy=None, importance_type=None,\n",
              "                               interaction_constraints=None, learning_rate=None,\n",
              "                               max_bin=None, max_cat_threshold=None,\n",
              "                               max_cat_to_onehot=None, max_delta_step=None,\n",
              "                               max_depth=None, max_leaves=None,\n",
              "                               min_child_weight=None, missing=nan,\n",
              "                               monotone_constraints=None, n_estimators=100,\n",
              "                               n_jobs=None, num_parallel_tree=None,\n",
              "                               predictor=None, random_state=None, ...))])"
            ]
          },
          "execution_count": 24,
          "metadata": {},
          "output_type": "execute_result"
        }
      ],
      "source": [
        "# Preprocessing of training data, fit model\n",
        "clf_xg.fit(x_train, y_train)"
      ]
    },
    {
      "cell_type": "markdown",
      "id": "def906b6",
      "metadata": {
        "id": "def906b6"
      },
      "source": [
        "**Score**"
      ]
    },
    {
      "cell_type": "code",
      "execution_count": null,
      "id": "83090ec1",
      "metadata": {
        "id": "83090ec1",
        "outputId": "94be16df-9991-4276-b698-a1cf39c517a5"
      },
      "outputs": [
        {
          "name": "stdout",
          "output_type": "stream",
          "text": [
            "The score of the XGB Classifier model is: 94.447\n"
          ]
        }
      ],
      "source": [
        "clf_score = clf_xg.score(x_test,y_test)*100\n",
        "print(f\"The score of the XGB Classifier model is: {clf_score:0.3f}\")"
      ]
    },
    {
      "cell_type": "code",
      "execution_count": null,
      "id": "9be3b943",
      "metadata": {
        "id": "9be3b943"
      },
      "outputs": [],
      "source": [
        "# Preprocessing of validation data, get predictions\n",
        "y_preds = clf_xg.predict(x_test)\n"
      ]
    },
    {
      "cell_type": "code",
      "execution_count": null,
      "id": "e9e47a96",
      "metadata": {
        "id": "e9e47a96"
      },
      "outputs": [],
      "source": [
        "#Hyperparameter grid Tuning\n",
        "\n",
        "param_grid = {\n",
        "    'preprocessor__num__imputer__strategy': ['mean','median'],\n",
        "    'classifier__n_estimators' : [200,300],  #number of decision trees in random forest\n",
        "    'classifier__learning_rate' : [0.1,0.2],\n",
        "    'classifier__max_depth' : [4,6],\n",
        "    'pca__n_components' : [20,25]\n",
        "}"
      ]
    },
    {
      "cell_type": "code",
      "execution_count": null,
      "id": "5d03f667",
      "metadata": {
        "id": "5d03f667"
      },
      "outputs": [],
      "source": [
        "grid_search_xg = GridSearchCV(clf_xg, param_grid, cv = 2, verbose = 1, n_jobs=-1)\n"
      ]
    },
    {
      "cell_type": "markdown",
      "id": "f65081b0",
      "metadata": {
        "id": "f65081b0"
      },
      "source": [
        "**Fitting the data**"
      ]
    },
    {
      "cell_type": "code",
      "execution_count": null,
      "id": "0c5af6aa",
      "metadata": {
        "id": "0c5af6aa",
        "outputId": "e20d9caa-9f03-44ac-f66b-38358278a3d9"
      },
      "outputs": [
        {
          "name": "stdout",
          "output_type": "stream",
          "text": [
            "Fitting 2 folds for each of 32 candidates, totalling 64 fits\n"
          ]
        },
        {
          "data": {
            "text/html": [
              "<style>#sk-container-id-2 {color: black;background-color: white;}#sk-container-id-2 pre{padding: 0;}#sk-container-id-2 div.sk-toggleable {background-color: white;}#sk-container-id-2 label.sk-toggleable__label {cursor: pointer;display: block;width: 100%;margin-bottom: 0;padding: 0.3em;box-sizing: border-box;text-align: center;}#sk-container-id-2 label.sk-toggleable__label-arrow:before {content: \"▸\";float: left;margin-right: 0.25em;color: #696969;}#sk-container-id-2 label.sk-toggleable__label-arrow:hover:before {color: black;}#sk-container-id-2 div.sk-estimator:hover label.sk-toggleable__label-arrow:before {color: black;}#sk-container-id-2 div.sk-toggleable__content {max-height: 0;max-width: 0;overflow: hidden;text-align: left;background-color: #f0f8ff;}#sk-container-id-2 div.sk-toggleable__content pre {margin: 0.2em;color: black;border-radius: 0.25em;background-color: #f0f8ff;}#sk-container-id-2 input.sk-toggleable__control:checked~div.sk-toggleable__content {max-height: 200px;max-width: 100%;overflow: auto;}#sk-container-id-2 input.sk-toggleable__control:checked~label.sk-toggleable__label-arrow:before {content: \"▾\";}#sk-container-id-2 div.sk-estimator input.sk-toggleable__control:checked~label.sk-toggleable__label {background-color: #d4ebff;}#sk-container-id-2 div.sk-label input.sk-toggleable__control:checked~label.sk-toggleable__label {background-color: #d4ebff;}#sk-container-id-2 input.sk-hidden--visually {border: 0;clip: rect(1px 1px 1px 1px);clip: rect(1px, 1px, 1px, 1px);height: 1px;margin: -1px;overflow: hidden;padding: 0;position: absolute;width: 1px;}#sk-container-id-2 div.sk-estimator {font-family: monospace;background-color: #f0f8ff;border: 1px dotted black;border-radius: 0.25em;box-sizing: border-box;margin-bottom: 0.5em;}#sk-container-id-2 div.sk-estimator:hover {background-color: #d4ebff;}#sk-container-id-2 div.sk-parallel-item::after {content: \"\";width: 100%;border-bottom: 1px solid gray;flex-grow: 1;}#sk-container-id-2 div.sk-label:hover label.sk-toggleable__label {background-color: #d4ebff;}#sk-container-id-2 div.sk-serial::before {content: \"\";position: absolute;border-left: 1px solid gray;box-sizing: border-box;top: 0;bottom: 0;left: 50%;z-index: 0;}#sk-container-id-2 div.sk-serial {display: flex;flex-direction: column;align-items: center;background-color: white;padding-right: 0.2em;padding-left: 0.2em;position: relative;}#sk-container-id-2 div.sk-item {position: relative;z-index: 1;}#sk-container-id-2 div.sk-parallel {display: flex;align-items: stretch;justify-content: center;background-color: white;position: relative;}#sk-container-id-2 div.sk-item::before, #sk-container-id-2 div.sk-parallel-item::before {content: \"\";position: absolute;border-left: 1px solid gray;box-sizing: border-box;top: 0;bottom: 0;left: 50%;z-index: -1;}#sk-container-id-2 div.sk-parallel-item {display: flex;flex-direction: column;z-index: 1;position: relative;background-color: white;}#sk-container-id-2 div.sk-parallel-item:first-child::after {align-self: flex-end;width: 50%;}#sk-container-id-2 div.sk-parallel-item:last-child::after {align-self: flex-start;width: 50%;}#sk-container-id-2 div.sk-parallel-item:only-child::after {width: 0;}#sk-container-id-2 div.sk-dashed-wrapped {border: 1px dashed gray;margin: 0 0.4em 0.5em 0.4em;box-sizing: border-box;padding-bottom: 0.4em;background-color: white;}#sk-container-id-2 div.sk-label label {font-family: monospace;font-weight: bold;display: inline-block;line-height: 1.2em;}#sk-container-id-2 div.sk-label-container {text-align: center;}#sk-container-id-2 div.sk-container {/* jupyter's `normalize.less` sets `[hidden] { display: none; }` but bootstrap.min.css set `[hidden] { display: none !important; }` so we also need the `!important` here to be able to override the default hidden behavior on the sphinx rendered scikit-learn.org. See: https://github.com/scikit-learn/scikit-learn/issues/21755 */display: inline-block !important;position: relative;}#sk-container-id-2 div.sk-text-repr-fallback {display: none;}</style><div id=\"sk-container-id-2\" class=\"sk-top-container\"><div class=\"sk-text-repr-fallback\"><pre>GridSearchCV(cv=2,\n",
              "             estimator=Pipeline(steps=[(&#x27;preprocessor&#x27;,\n",
              "                                        ColumnTransformer(transformers=[(&#x27;num&#x27;,\n",
              "                                                                         Pipeline(steps=[(&#x27;imputer&#x27;,\n",
              "                                                                                          SimpleImputer(strategy=&#x27;median&#x27;)),\n",
              "                                                                                         (&#x27;scaler&#x27;,\n",
              "                                                                                          StandardScaler())]),\n",
              "                                                                         [&#x27;Age&#x27;,\n",
              "                                                                          &#x27;Flight &#x27;\n",
              "                                                                          &#x27;Distance&#x27;,\n",
              "                                                                          &#x27;Inflight &#x27;\n",
              "                                                                          &#x27;wifi &#x27;\n",
              "                                                                          &#x27;service&#x27;,\n",
              "                                                                          &#x27;Departure/Arrival &#x27;\n",
              "                                                                          &#x27;time &#x27;\n",
              "                                                                          &#x27;convenient&#x27;,\n",
              "                                                                          &#x27;Ease &#x27;\n",
              "                                                                          &#x27;of &#x27;\n",
              "                                                                          &#x27;Online &#x27;\n",
              "                                                                          &#x27;booking&#x27;,\n",
              "                                                                          &#x27;Gate &#x27;\n",
              "                                                                          &#x27;location&#x27;,\n",
              "                                                                          &#x27;Food &#x27;\n",
              "                                                                          &#x27;and &#x27;\n",
              "                                                                          &#x27;drink&#x27;,\n",
              "                                                                          &#x27;Onlin...\n",
              "                                                      missing=nan,\n",
              "                                                      monotone_constraints=None,\n",
              "                                                      n_estimators=100,\n",
              "                                                      n_jobs=None,\n",
              "                                                      num_parallel_tree=None,\n",
              "                                                      predictor=None,\n",
              "                                                      random_state=None, ...))]),\n",
              "             n_jobs=-1,\n",
              "             param_grid={&#x27;classifier__learning_rate&#x27;: [0.1, 0.2],\n",
              "                         &#x27;classifier__max_depth&#x27;: [4, 6],\n",
              "                         &#x27;classifier__n_estimators&#x27;: [200, 300],\n",
              "                         &#x27;pca__n_components&#x27;: [20, 25],\n",
              "                         &#x27;preprocessor__num__imputer__strategy&#x27;: [&#x27;mean&#x27;,\n",
              "                                                                  &#x27;median&#x27;]},\n",
              "             verbose=1)</pre><b>In a Jupyter environment, please rerun this cell to show the HTML representation or trust the notebook. <br />On GitHub, the HTML representation is unable to render, please try loading this page with nbviewer.org.</b></div><div class=\"sk-container\" hidden><div class=\"sk-item sk-dashed-wrapped\"><div class=\"sk-label-container\"><div class=\"sk-label sk-toggleable\"><input class=\"sk-toggleable__control sk-hidden--visually\" id=\"sk-estimator-id-11\" type=\"checkbox\" ><label for=\"sk-estimator-id-11\" class=\"sk-toggleable__label sk-toggleable__label-arrow\">GridSearchCV</label><div class=\"sk-toggleable__content\"><pre>GridSearchCV(cv=2,\n",
              "             estimator=Pipeline(steps=[(&#x27;preprocessor&#x27;,\n",
              "                                        ColumnTransformer(transformers=[(&#x27;num&#x27;,\n",
              "                                                                         Pipeline(steps=[(&#x27;imputer&#x27;,\n",
              "                                                                                          SimpleImputer(strategy=&#x27;median&#x27;)),\n",
              "                                                                                         (&#x27;scaler&#x27;,\n",
              "                                                                                          StandardScaler())]),\n",
              "                                                                         [&#x27;Age&#x27;,\n",
              "                                                                          &#x27;Flight &#x27;\n",
              "                                                                          &#x27;Distance&#x27;,\n",
              "                                                                          &#x27;Inflight &#x27;\n",
              "                                                                          &#x27;wifi &#x27;\n",
              "                                                                          &#x27;service&#x27;,\n",
              "                                                                          &#x27;Departure/Arrival &#x27;\n",
              "                                                                          &#x27;time &#x27;\n",
              "                                                                          &#x27;convenient&#x27;,\n",
              "                                                                          &#x27;Ease &#x27;\n",
              "                                                                          &#x27;of &#x27;\n",
              "                                                                          &#x27;Online &#x27;\n",
              "                                                                          &#x27;booking&#x27;,\n",
              "                                                                          &#x27;Gate &#x27;\n",
              "                                                                          &#x27;location&#x27;,\n",
              "                                                                          &#x27;Food &#x27;\n",
              "                                                                          &#x27;and &#x27;\n",
              "                                                                          &#x27;drink&#x27;,\n",
              "                                                                          &#x27;Onlin...\n",
              "                                                      missing=nan,\n",
              "                                                      monotone_constraints=None,\n",
              "                                                      n_estimators=100,\n",
              "                                                      n_jobs=None,\n",
              "                                                      num_parallel_tree=None,\n",
              "                                                      predictor=None,\n",
              "                                                      random_state=None, ...))]),\n",
              "             n_jobs=-1,\n",
              "             param_grid={&#x27;classifier__learning_rate&#x27;: [0.1, 0.2],\n",
              "                         &#x27;classifier__max_depth&#x27;: [4, 6],\n",
              "                         &#x27;classifier__n_estimators&#x27;: [200, 300],\n",
              "                         &#x27;pca__n_components&#x27;: [20, 25],\n",
              "                         &#x27;preprocessor__num__imputer__strategy&#x27;: [&#x27;mean&#x27;,\n",
              "                                                                  &#x27;median&#x27;]},\n",
              "             verbose=1)</pre></div></div></div><div class=\"sk-parallel\"><div class=\"sk-parallel-item\"><div class=\"sk-item\"><div class=\"sk-label-container\"><div class=\"sk-label sk-toggleable\"><input class=\"sk-toggleable__control sk-hidden--visually\" id=\"sk-estimator-id-12\" type=\"checkbox\" ><label for=\"sk-estimator-id-12\" class=\"sk-toggleable__label sk-toggleable__label-arrow\">estimator: Pipeline</label><div class=\"sk-toggleable__content\"><pre>Pipeline(steps=[(&#x27;preprocessor&#x27;,\n",
              "                 ColumnTransformer(transformers=[(&#x27;num&#x27;,\n",
              "                                                  Pipeline(steps=[(&#x27;imputer&#x27;,\n",
              "                                                                   SimpleImputer(strategy=&#x27;median&#x27;)),\n",
              "                                                                  (&#x27;scaler&#x27;,\n",
              "                                                                   StandardScaler())]),\n",
              "                                                  [&#x27;Age&#x27;, &#x27;Flight Distance&#x27;,\n",
              "                                                   &#x27;Inflight wifi service&#x27;,\n",
              "                                                   &#x27;Departure/Arrival time &#x27;\n",
              "                                                   &#x27;convenient&#x27;,\n",
              "                                                   &#x27;Ease of Online booking&#x27;,\n",
              "                                                   &#x27;Gate location&#x27;,\n",
              "                                                   &#x27;Food and drink&#x27;,\n",
              "                                                   &#x27;Online boarding&#x27;,\n",
              "                                                   &#x27;Seat comfort&#x27;,\n",
              "                                                   &#x27;Inflight entertainment&#x27;...\n",
              "                               feature_types=None, gamma=None, gpu_id=None,\n",
              "                               grow_policy=None, importance_type=None,\n",
              "                               interaction_constraints=None, learning_rate=None,\n",
              "                               max_bin=None, max_cat_threshold=None,\n",
              "                               max_cat_to_onehot=None, max_delta_step=None,\n",
              "                               max_depth=None, max_leaves=None,\n",
              "                               min_child_weight=None, missing=nan,\n",
              "                               monotone_constraints=None, n_estimators=100,\n",
              "                               n_jobs=None, num_parallel_tree=None,\n",
              "                               predictor=None, random_state=None, ...))])</pre></div></div></div><div class=\"sk-serial\"><div class=\"sk-item\"><div class=\"sk-serial\"><div class=\"sk-item sk-dashed-wrapped\"><div class=\"sk-label-container\"><div class=\"sk-label sk-toggleable\"><input class=\"sk-toggleable__control sk-hidden--visually\" id=\"sk-estimator-id-13\" type=\"checkbox\" ><label for=\"sk-estimator-id-13\" class=\"sk-toggleable__label sk-toggleable__label-arrow\">preprocessor: ColumnTransformer</label><div class=\"sk-toggleable__content\"><pre>ColumnTransformer(transformers=[(&#x27;num&#x27;,\n",
              "                                 Pipeline(steps=[(&#x27;imputer&#x27;,\n",
              "                                                  SimpleImputer(strategy=&#x27;median&#x27;)),\n",
              "                                                 (&#x27;scaler&#x27;, StandardScaler())]),\n",
              "                                 [&#x27;Age&#x27;, &#x27;Flight Distance&#x27;,\n",
              "                                  &#x27;Inflight wifi service&#x27;,\n",
              "                                  &#x27;Departure/Arrival time convenient&#x27;,\n",
              "                                  &#x27;Ease of Online booking&#x27;, &#x27;Gate location&#x27;,\n",
              "                                  &#x27;Food and drink&#x27;, &#x27;Online boarding&#x27;,\n",
              "                                  &#x27;Seat comfort&#x27;, &#x27;Inflight entertainment&#x27;,\n",
              "                                  &#x27;On-board service&#x27;, &#x27;Leg room service&#x27;,\n",
              "                                  &#x27;Baggage handling&#x27;, &#x27;Checkin service&#x27;,\n",
              "                                  &#x27;Inflight service&#x27;, &#x27;Cleanliness&#x27;,\n",
              "                                  &#x27;Departure Delay in Minutes&#x27;,\n",
              "                                  &#x27;Arrival Delay in Minutes&#x27;]),\n",
              "                                (&#x27;cat&#x27;,\n",
              "                                 Pipeline(steps=[(&#x27;imputer&#x27;,\n",
              "                                                  SimpleImputer(fill_value=&#x27;missing&#x27;,\n",
              "                                                                strategy=&#x27;most_frequent&#x27;)),\n",
              "                                                 (&#x27;encoder&#x27;,\n",
              "                                                  OneHotEncoder(handle_unknown=&#x27;ignore&#x27;))]),\n",
              "                                 [&#x27;Gender&#x27;, &#x27;Customer Type&#x27;, &#x27;Type of Travel&#x27;,\n",
              "                                  &#x27;Class&#x27;])])</pre></div></div></div><div class=\"sk-parallel\"><div class=\"sk-parallel-item\"><div class=\"sk-item\"><div class=\"sk-label-container\"><div class=\"sk-label sk-toggleable\"><input class=\"sk-toggleable__control sk-hidden--visually\" id=\"sk-estimator-id-14\" type=\"checkbox\" ><label for=\"sk-estimator-id-14\" class=\"sk-toggleable__label sk-toggleable__label-arrow\">num</label><div class=\"sk-toggleable__content\"><pre>[&#x27;Age&#x27;, &#x27;Flight Distance&#x27;, &#x27;Inflight wifi service&#x27;, &#x27;Departure/Arrival time convenient&#x27;, &#x27;Ease of Online booking&#x27;, &#x27;Gate location&#x27;, &#x27;Food and drink&#x27;, &#x27;Online boarding&#x27;, &#x27;Seat comfort&#x27;, &#x27;Inflight entertainment&#x27;, &#x27;On-board service&#x27;, &#x27;Leg room service&#x27;, &#x27;Baggage handling&#x27;, &#x27;Checkin service&#x27;, &#x27;Inflight service&#x27;, &#x27;Cleanliness&#x27;, &#x27;Departure Delay in Minutes&#x27;, &#x27;Arrival Delay in Minutes&#x27;]</pre></div></div></div><div class=\"sk-serial\"><div class=\"sk-item\"><div class=\"sk-serial\"><div class=\"sk-item\"><div class=\"sk-estimator sk-toggleable\"><input class=\"sk-toggleable__control sk-hidden--visually\" id=\"sk-estimator-id-15\" type=\"checkbox\" ><label for=\"sk-estimator-id-15\" class=\"sk-toggleable__label sk-toggleable__label-arrow\">SimpleImputer</label><div class=\"sk-toggleable__content\"><pre>SimpleImputer(strategy=&#x27;median&#x27;)</pre></div></div></div><div class=\"sk-item\"><div class=\"sk-estimator sk-toggleable\"><input class=\"sk-toggleable__control sk-hidden--visually\" id=\"sk-estimator-id-16\" type=\"checkbox\" ><label for=\"sk-estimator-id-16\" class=\"sk-toggleable__label sk-toggleable__label-arrow\">StandardScaler</label><div class=\"sk-toggleable__content\"><pre>StandardScaler()</pre></div></div></div></div></div></div></div></div><div class=\"sk-parallel-item\"><div class=\"sk-item\"><div class=\"sk-label-container\"><div class=\"sk-label sk-toggleable\"><input class=\"sk-toggleable__control sk-hidden--visually\" id=\"sk-estimator-id-17\" type=\"checkbox\" ><label for=\"sk-estimator-id-17\" class=\"sk-toggleable__label sk-toggleable__label-arrow\">cat</label><div class=\"sk-toggleable__content\"><pre>[&#x27;Gender&#x27;, &#x27;Customer Type&#x27;, &#x27;Type of Travel&#x27;, &#x27;Class&#x27;]</pre></div></div></div><div class=\"sk-serial\"><div class=\"sk-item\"><div class=\"sk-serial\"><div class=\"sk-item\"><div class=\"sk-estimator sk-toggleable\"><input class=\"sk-toggleable__control sk-hidden--visually\" id=\"sk-estimator-id-18\" type=\"checkbox\" ><label for=\"sk-estimator-id-18\" class=\"sk-toggleable__label sk-toggleable__label-arrow\">SimpleImputer</label><div class=\"sk-toggleable__content\"><pre>SimpleImputer(fill_value=&#x27;missing&#x27;, strategy=&#x27;most_frequent&#x27;)</pre></div></div></div><div class=\"sk-item\"><div class=\"sk-estimator sk-toggleable\"><input class=\"sk-toggleable__control sk-hidden--visually\" id=\"sk-estimator-id-19\" type=\"checkbox\" ><label for=\"sk-estimator-id-19\" class=\"sk-toggleable__label sk-toggleable__label-arrow\">OneHotEncoder</label><div class=\"sk-toggleable__content\"><pre>OneHotEncoder(handle_unknown=&#x27;ignore&#x27;)</pre></div></div></div></div></div></div></div></div></div></div><div class=\"sk-item\"><div class=\"sk-estimator sk-toggleable\"><input class=\"sk-toggleable__control sk-hidden--visually\" id=\"sk-estimator-id-20\" type=\"checkbox\" ><label for=\"sk-estimator-id-20\" class=\"sk-toggleable__label sk-toggleable__label-arrow\">PCA</label><div class=\"sk-toggleable__content\"><pre>PCA()</pre></div></div></div><div class=\"sk-item\"><div class=\"sk-estimator sk-toggleable\"><input class=\"sk-toggleable__control sk-hidden--visually\" id=\"sk-estimator-id-21\" type=\"checkbox\" ><label for=\"sk-estimator-id-21\" class=\"sk-toggleable__label sk-toggleable__label-arrow\">XGBClassifier</label><div class=\"sk-toggleable__content\"><pre>XGBClassifier(base_score=None, booster=None, callbacks=None,\n",
              "              colsample_bylevel=None, colsample_bynode=None,\n",
              "              colsample_bytree=None, early_stopping_rounds=None,\n",
              "              enable_categorical=False, eval_metric=None, feature_types=None,\n",
              "              gamma=None, gpu_id=None, grow_policy=None, importance_type=None,\n",
              "              interaction_constraints=None, learning_rate=None, max_bin=None,\n",
              "              max_cat_threshold=None, max_cat_to_onehot=None,\n",
              "              max_delta_step=None, max_depth=None, max_leaves=None,\n",
              "              min_child_weight=None, missing=nan, monotone_constraints=None,\n",
              "              n_estimators=100, n_jobs=None, num_parallel_tree=None,\n",
              "              predictor=None, random_state=None, ...)</pre></div></div></div></div></div></div></div></div></div></div></div></div>"
            ],
            "text/plain": [
              "GridSearchCV(cv=2,\n",
              "             estimator=Pipeline(steps=[('preprocessor',\n",
              "                                        ColumnTransformer(transformers=[('num',\n",
              "                                                                         Pipeline(steps=[('imputer',\n",
              "                                                                                          SimpleImputer(strategy='median')),\n",
              "                                                                                         ('scaler',\n",
              "                                                                                          StandardScaler())]),\n",
              "                                                                         ['Age',\n",
              "                                                                          'Flight '\n",
              "                                                                          'Distance',\n",
              "                                                                          'Inflight '\n",
              "                                                                          'wifi '\n",
              "                                                                          'service',\n",
              "                                                                          'Departure/Arrival '\n",
              "                                                                          'time '\n",
              "                                                                          'convenient',\n",
              "                                                                          'Ease '\n",
              "                                                                          'of '\n",
              "                                                                          'Online '\n",
              "                                                                          'booking',\n",
              "                                                                          'Gate '\n",
              "                                                                          'location',\n",
              "                                                                          'Food '\n",
              "                                                                          'and '\n",
              "                                                                          'drink',\n",
              "                                                                          'Onlin...\n",
              "                                                      missing=nan,\n",
              "                                                      monotone_constraints=None,\n",
              "                                                      n_estimators=100,\n",
              "                                                      n_jobs=None,\n",
              "                                                      num_parallel_tree=None,\n",
              "                                                      predictor=None,\n",
              "                                                      random_state=None, ...))]),\n",
              "             n_jobs=-1,\n",
              "             param_grid={'classifier__learning_rate': [0.1, 0.2],\n",
              "                         'classifier__max_depth': [4, 6],\n",
              "                         'classifier__n_estimators': [200, 300],\n",
              "                         'pca__n_components': [20, 25],\n",
              "                         'preprocessor__num__imputer__strategy': ['mean',\n",
              "                                                                  'median']},\n",
              "             verbose=1)"
            ]
          },
          "execution_count": 29,
          "metadata": {},
          "output_type": "execute_result"
        }
      ],
      "source": [
        "grid_search_xg.fit(x_train, y_train)\n"
      ]
    },
    {
      "cell_type": "code",
      "execution_count": null,
      "id": "07047aca",
      "metadata": {
        "id": "07047aca",
        "outputId": "30f3ee37-6c54-4d69-d2f4-51f75c63f4da"
      },
      "outputs": [
        {
          "name": "stdout",
          "output_type": "stream",
          "text": [
            "The score of the XGB Classifier After Hyperparameter tuning is: 95.063\n",
            "Best Parameters: {'classifier__learning_rate': 0.2, 'classifier__max_depth': 6, 'classifier__n_estimators': 300, 'pca__n_components': 25, 'preprocessor__num__imputer__strategy': 'median'}\n"
          ]
        }
      ],
      "source": [
        "xg_score = grid_search_xg.score(x_test,y_test)*100\n",
        "print(f\"The score of the XGB Classifier After Hyperparameter tuning is: {xg_score:0.3f}\")\n",
        "#print(f\"Best Score: {grid_search.best_score_}\")\n",
        "print(f\"Best Parameters: {grid_search_xg.best_params_}\")\n"
      ]
    },
    {
      "cell_type": "code",
      "execution_count": null,
      "id": "5a776932",
      "metadata": {
        "id": "5a776932",
        "outputId": "ab15f8f2-fd7c-4a6a-d3af-1367b9422df3"
      },
      "outputs": [
        {
          "name": "stdout",
          "output_type": "stream",
          "text": [
            "--Few predictions--\n",
            "\n"
          ]
        },
        {
          "data": {
            "text/plain": [
              "array([0, 0, 0, 0])"
            ]
          },
          "execution_count": 31,
          "metadata": {},
          "output_type": "execute_result"
        }
      ],
      "source": [
        "y_pred = clf_xg.predict(x_test)\n",
        "print(\"--Few predictions--\\n\")\n",
        "y_pred[:4]"
      ]
    },
    {
      "cell_type": "markdown",
      "id": "e0600a3c",
      "metadata": {
        "id": "e0600a3c"
      },
      "source": [
        "**Accuracy Score**"
      ]
    },
    {
      "cell_type": "code",
      "execution_count": null,
      "id": "2d9578e3",
      "metadata": {
        "id": "2d9578e3",
        "outputId": "c7393825-0ea8-4893-f1f8-40483d9ad921"
      },
      "outputs": [
        {
          "name": "stdout",
          "output_type": "stream",
          "text": [
            "\n",
            "\n",
            "--Accuracy Score--\n",
            "\n"
          ]
        },
        {
          "data": {
            "text/plain": [
              "94.44711769800789"
            ]
          },
          "execution_count": 33,
          "metadata": {},
          "output_type": "execute_result"
        }
      ],
      "source": [
        "print(\"\\n\\n--Accuracy Score--\\n\")\n",
        "from sklearn.metrics import accuracy_score\n",
        "accuracy = accuracy_score(y_test, y_pred)\n",
        "accuracy * 100.0"
      ]
    },
    {
      "cell_type": "code",
      "execution_count": null,
      "id": "5f5a3ba2",
      "metadata": {
        "id": "5f5a3ba2",
        "outputId": "cd63a63e-ce29-4695-a0fd-79c8db93effd"
      },
      "outputs": [
        {
          "name": "stdout",
          "output_type": "stream",
          "text": [
            "\n",
            "\n",
            "--Confusion Matrix--\n",
            "\n"
          ]
        },
        {
          "data": {
            "text/plain": [
              "array([[5720,  220],\n",
              "       [ 357, 4094]])"
            ]
          },
          "execution_count": 34,
          "metadata": {},
          "output_type": "execute_result"
        }
      ],
      "source": [
        "print(\"\\n\\n--Confusion Matrix--\\n\")\n",
        "confusion_matrix( y_test,y_pred)"
      ]
    },
    {
      "cell_type": "code",
      "execution_count": null,
      "id": "a50c5757",
      "metadata": {
        "id": "a50c5757",
        "outputId": "b56ce2f5-9cef-43d2-98a0-18e5c4e57cd1"
      },
      "outputs": [
        {
          "name": "stdout",
          "output_type": "stream",
          "text": [
            "0.9432913136027556\n",
            "{'classifier__learning_rate': 0.2, 'classifier__max_depth': 6, 'classifier__n_estimators': 300, 'pca__n_components': 25, 'preprocessor__num__imputer__strategy': 'median'}\n"
          ]
        }
      ],
      "source": [
        "best_model_ = grid_search_xg.best_estimator_\n",
        "\n",
        "print(grid_search_xg.best_score_)\n",
        "print(grid_search_xg.best_params_)"
      ]
    },
    {
      "cell_type": "markdown",
      "id": "28b71929",
      "metadata": {
        "id": "28b71929"
      },
      "source": [
        "**Feature Importance**"
      ]
    },
    {
      "cell_type": "code",
      "execution_count": null,
      "id": "ce36696f",
      "metadata": {
        "id": "ce36696f",
        "outputId": "2705b89f-5285-4432-b3f7-c0fe0db5a8d0"
      },
      "outputs": [
        {
          "name": "stdout",
          "output_type": "stream",
          "text": [
            "\n",
            "\n",
            "--How many features--\n",
            "\n"
          ]
        },
        {
          "data": {
            "text/plain": [
              "(25,)"
            ]
          },
          "execution_count": 36,
          "metadata": {},
          "output_type": "execute_result"
        },
        {
          "name": "stdout",
          "output_type": "stream",
          "text": [
            "\n",
            "\n",
            "---Feature importances---\n",
            "\n"
          ]
        },
        {
          "data": {
            "text/plain": [
              "array([0.24664679, 0.07809009, 0.0255158 , 0.01355266, 0.17616089,\n",
              "       0.04997559, 0.03974556, 0.01535095, 0.01367863, 0.01545579,\n",
              "       0.0095366 , 0.01145919, 0.02159911, 0.02100336, 0.02185493,\n",
              "       0.02020812, 0.01656156, 0.02948037, 0.03183692, 0.01547834,\n",
              "       0.08172509, 0.02288987, 0.00978441, 0.00582366, 0.00658572],\n",
              "      dtype=float32)"
            ]
          },
          "execution_count": 36,
          "metadata": {},
          "output_type": "execute_result"
        }
      ],
      "source": [
        "print(\"\\n\\n--How many features--\\n\")\n",
        "grid_search_xg.best_estimator_.named_steps[\"classifier\"].feature_importances_.shape\n",
        "\n",
        "# 7.9.1\n",
        "print(\"\\n\\n---Feature importances---\\n\")\n",
        "grid_search_xg.best_estimator_.named_steps[\"classifier\"].feature_importances_"
      ]
    },
    {
      "cell_type": "code",
      "execution_count": null,
      "id": "2d9193bd",
      "metadata": {
        "scrolled": true,
        "id": "2d9193bd",
        "outputId": "4715b04a-cae0-4fbe-8f07-acf3d3b60177"
      },
      "outputs": [
        {
          "name": "stdout",
          "output_type": "stream",
          "text": [
            "Gender: 0.24664679169654846\n",
            "Customer Type: 0.07809008657932281\n",
            "Type of Travel: 0.013552664779126644\n",
            "Class: 0.17616088688373566\n",
            "Age: 0.02551579847931862\n",
            "Flight Distance: 0.04997558891773224\n",
            "Inflight wifi service: 0.03974556177854538\n",
            "Departure/Arrival time convenient: 0.015350954607129097\n",
            "Ease of Online booking: 0.01367863453924656\n",
            "Gate location: 0.015455788932740688\n",
            "Food and drink: 0.00953659601509571\n",
            "Online boarding: 0.01145919132977724\n",
            "Seat comfort: 0.02159911021590233\n",
            "Inflight entertainment: 0.021003358066082\n",
            "On-board service: 0.021854931488633156\n",
            "Leg room service: 0.020208124071359634\n",
            "Baggage handling: 0.016561564058065414\n",
            "Checkin service: 0.02948037162423134\n",
            "Inflight service: 0.031836915761232376\n",
            "Cleanliness: 0.0154783446341753\n",
            "Departure Delay in Minutes: 0.0817250907421112\n",
            "Arrival Delay in Minutes: 0.022889869287610054\n"
          ]
        }
      ],
      "source": [
        "# Map feature importance values to original columns\n",
        "original_columns = ['Gender', 'Customer Type', 'Type of Travel', 'Class']\n",
        "importance_per_column = {}\n",
        "feature_importances = grid_search_xg.best_estimator_.named_steps[\"classifier\"].feature_importances_\n",
        "\n",
        "for original_col in original_columns:\n",
        "    related_cols = [col for col in x_train.columns if original_col in col]\n",
        "    total_importance = sum(feature_importances[x_train.columns.get_loc(col)] for col in related_cols)\n",
        "    num_related_cols = len(related_cols)\n",
        "    average_importance = total_importance / num_related_cols\n",
        "    importance_per_column[original_col] = average_importance\n",
        "\n",
        "remaining_cols = [col for col in x_train.columns if col not in original_columns]\n",
        "remaining_importance = [feature_importances[x_train.columns.get_loc(col)] for col in remaining_cols]\n",
        "\n",
        "# Print the aggregated importance values for original columns\n",
        "for col, importance in importance_per_column.items():\n",
        "    print(f\"{col}: {importance}\")\n",
        "\n",
        "# Print the importance values for the remaining columns\n",
        "for col, importance in zip(remaining_cols, remaining_importance):\n",
        "    print(f\"{col}: {importance}\")\n"
      ]
    },
    {
      "cell_type": "code",
      "execution_count": null,
      "id": "dd316aaa",
      "metadata": {
        "id": "dd316aaa",
        "outputId": "74b37ee5-e725-42d5-d90e-c65a01445c84"
      },
      "outputs": [
        {
          "name": "stdout",
          "output_type": "stream",
          "text": [
            "Requirement already satisfied: scikit-learn in ./anaconda3/lib/python3.10/site-packages (1.2.1)\n",
            "Collecting scikit-learn\n",
            "  Downloading scikit_learn-1.3.0-cp310-cp310-macosx_12_0_arm64.whl (9.5 MB)\n",
            "\u001b[2K     \u001b[90m━━━━━━━━━━━━━━━━━━━━━━━━━━━━━━━━━━━━━━━━\u001b[0m \u001b[32m9.5/9.5 MB\u001b[0m \u001b[31m11.5 MB/s\u001b[0m eta \u001b[36m0:00:00\u001b[0m00:01\u001b[0m00:01\u001b[0m\n",
            "\u001b[?25hRequirement already satisfied: scipy>=1.5.0 in ./anaconda3/lib/python3.10/site-packages (from scikit-learn) (1.10.0)\n",
            "Requirement already satisfied: threadpoolctl>=2.0.0 in ./anaconda3/lib/python3.10/site-packages (from scikit-learn) (2.2.0)\n",
            "Requirement already satisfied: numpy>=1.17.3 in ./anaconda3/lib/python3.10/site-packages (from scikit-learn) (1.23.5)\n",
            "Requirement already satisfied: joblib>=1.1.1 in ./anaconda3/lib/python3.10/site-packages (from scikit-learn) (1.1.1)\n",
            "Installing collected packages: scikit-learn\n",
            "  Attempting uninstall: scikit-learn\n",
            "    Found existing installation: scikit-learn 1.2.1\n",
            "    Uninstalling scikit-learn-1.2.1:\n",
            "      Successfully uninstalled scikit-learn-1.2.1\n",
            "Successfully installed scikit-learn-1.3.0\n",
            "Note: you may need to restart the kernel to use updated packages.\n"
          ]
        }
      ],
      "source": [
        "pip install --upgrade scikit-learn"
      ]
    },
    {
      "cell_type": "markdown",
      "id": "7dc4fba5",
      "metadata": {
        "id": "7dc4fba5"
      },
      "source": [
        "**Plotting the ROC Curve**"
      ]
    },
    {
      "cell_type": "code",
      "execution_count": null,
      "id": "5a18360c",
      "metadata": {
        "id": "5a18360c",
        "outputId": "d1d8a9ac-441f-4b8c-cbc2-c461ba0e148a"
      },
      "outputs": [
        {
          "data": {
            "text/plain": [
              "<Figure size 640x480 with 0 Axes>"
            ]
          },
          "execution_count": 56,
          "metadata": {},
          "output_type": "execute_result"
        },
        {
          "data": {
            "text/plain": [
              "[<matplotlib.lines.Line2D at 0x1465a22f0>]"
            ]
          },
          "execution_count": 56,
          "metadata": {},
          "output_type": "execute_result"
        },
        {
          "data": {
            "text/plain": [
              "[<matplotlib.lines.Line2D at 0x1465a26b0>]"
            ]
          },
          "execution_count": 56,
          "metadata": {},
          "output_type": "execute_result"
        },
        {
          "data": {
            "text/plain": [
              "(0.0, 1.0)"
            ]
          },
          "execution_count": 56,
          "metadata": {},
          "output_type": "execute_result"
        },
        {
          "data": {
            "text/plain": [
              "(0.0, 1.05)"
            ]
          },
          "execution_count": 56,
          "metadata": {},
          "output_type": "execute_result"
        },
        {
          "data": {
            "text/plain": [
              "Text(0.5, 0, 'False Positive Rate')"
            ]
          },
          "execution_count": 56,
          "metadata": {},
          "output_type": "execute_result"
        },
        {
          "data": {
            "text/plain": [
              "Text(0, 0.5, 'True Positive Rate')"
            ]
          },
          "execution_count": 56,
          "metadata": {},
          "output_type": "execute_result"
        },
        {
          "data": {
            "text/plain": [
              "Text(0.5, 1.0, 'Receiver Operating Characteristic')"
            ]
          },
          "execution_count": 56,
          "metadata": {},
          "output_type": "execute_result"
        },
        {
          "data": {
            "text/plain": [
              "<matplotlib.legend.Legend at 0x1465a2800>"
            ]
          },
          "execution_count": 56,
          "metadata": {},
          "output_type": "execute_result"
        },
        {
          "data": {
            "image/png": "[encoded data removed]",
            "text/plain": [
              "<Figure size 640x480 with 1 Axes>"
            ]
          },
          "metadata": {},
          "output_type": "display_data"
        }
      ],
      "source": [
        "import matplotlib.pyplot as plt\n",
        "from sklearn.metrics import roc_curve, auc\n",
        "# Assuming y_test and y_pred_prob are your test labels and predicted probabilities respectively\n",
        "y_pred_prob = clf_xg.predict_proba(x_test)[:, 1]  # Assuming you're interested in the positive class probabilities\n",
        "\n",
        "# Calculate ROC curve and AUC\n",
        "fpr, tpr, thresholds = roc_curve(y_test, y_pred_prob)\n",
        "roc_auc = auc(fpr, tpr)\n",
        "\n",
        "# Plot ROC curve\n",
        "import matplotlib.pyplot as plt\n",
        "\n",
        "plt.figure()\n",
        "plt.plot(fpr, tpr, color='darkorange', lw=2, label='ROC curve (area = %0.2f)' % roc_auc)\n",
        "plt.plot([0, 1], [0, 1], color='navy', lw=2, linestyle='--')\n",
        "plt.xlim([0.0, 1.0])\n",
        "plt.ylim([0.0, 1.05])\n",
        "plt.xlabel('False Positive Rate')\n",
        "plt.ylabel('True Positive Rate')\n",
        "plt.title('Receiver Operating Characteristic')\n",
        "plt.legend(loc=\"lower right\")\n",
        "plt.show()"
      ]
    },
    {
      "cell_type": "code",
      "execution_count": null,
      "id": "4cf32cec",
      "metadata": {
        "id": "4cf32cec"
      },
      "outputs": [],
      "source": []
    }
  ],
  "metadata": {
    "kernelspec": {
      "display_name": "Python 3 (ipykernel)",
      "language": "python",
      "name": "python3"
    },
    "language_info": {
      "codemirror_mode": {
        "name": "ipython",
        "version": 3
      },
      "file_extension": ".py",
      "mimetype": "text/x-python",
      "name": "python",
      "nbconvert_exporter": "python",
      "pygments_lexer": "ipython3",
      "version": "3.10.9"
    },
    "colab": {
      "provenance": [],
      "include_colab_link": true
    }
  },
  "nbformat": 4,
  "nbformat_minor": 5
}